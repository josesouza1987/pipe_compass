{
 "cells": [
  {
   "cell_type": "code",
   "execution_count": 1,
   "id": "a563f107",
   "metadata": {},
   "outputs": [],
   "source": [
    "import os\n",
    "import pandas as pd\n",
    "import requests as rq\n"
   ]
  },
  {
   "cell_type": "code",
   "execution_count": 29,
   "id": "8a6d946f",
   "metadata": {},
   "outputs": [],
   "source": [
    "# Definindo parâmetros da API\n",
    "url = 'https://api.exchangerate.host/timeframe'\n",
    "\n",
    "# Lendo a variavel de ambiente com chave de acesso à API\n",
    "key = os.getenv('exchangerate_key')\n",
    "\n",
    "# Definindo parâmetros\n",
    "params = {'access_key': key,  'start_date': '2025-01-01', 'end_date': '2025-08-10', 'source': 'USD', 'currencies': 'BRL'}\n",
    "\n",
    "# Faz a requisição da API e transforma em dicionário\n",
    "res = rq.get(url, params=params)\n",
    "res_dict = res.json()"
   ]
  },
  {
   "cell_type": "code",
   "execution_count": null,
   "id": "e231c667",
   "metadata": {},
   "outputs": [
    {
     "name": "stdout",
     "output_type": "stream",
     "text": [
      "          date    USDBRL\n",
      "0   2025-01-01  6.301501\n",
      "1   2025-01-02  6.152498\n",
      "2   2025-01-03  6.182204\n",
      "3   2025-01-04  6.182204\n",
      "4   2025-01-05  6.182198\n",
      "..         ...       ...\n",
      "217 2025-08-06  5.460400\n",
      "218 2025-08-07  5.415803\n",
      "219 2025-08-08  5.431804\n",
      "220 2025-08-09  5.431804\n",
      "221 2025-08-10  5.433802\n",
      "\n",
      "[222 rows x 2 columns]\n"
     ]
    }
   ],
   "source": [
    "# Criando uma lista de dicionários onde .items() retorna pares de chave e valor do dicionário\n",
    "# Sendo a coluna date recebe a chave e USDBRL recebe o valor que está dentro do dicionário\n",
    "# Usando o loop for pra percorrer cada item do dicionário res_dict['quotes']\n",
    "list_dict = [{'date': date, 'USDBRL': value['USDBRL']} for date, value in res_dict['quotes'].items()]\n",
    "\n",
    "# Transforma em Dataframe do pandas\n",
    "df = pd.DataFrame(list_dict)\n",
    "\n",
    "# Converter a coluna de data para datetime\n",
    "df['date'] = pd.to_datetime(df['date'])\n",
    "\n",
    "print(df)\n"
   ]
  }
 ],
 "metadata": {
  "kernelspec": {
   "display_name": "Python 3",
   "language": "python",
   "name": "python3"
  },
  "language_info": {
   "codemirror_mode": {
    "name": "ipython",
    "version": 3
   },
   "file_extension": ".py",
   "mimetype": "text/x-python",
   "name": "python",
   "nbconvert_exporter": "python",
   "pygments_lexer": "ipython3",
   "version": "3.13.7"
  }
 },
 "nbformat": 4,
 "nbformat_minor": 5
}
